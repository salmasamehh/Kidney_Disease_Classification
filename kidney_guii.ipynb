{
 "cells": [
  {
   "cell_type": "code",
   "execution_count": 20,
   "id": "eeca03a6",
   "metadata": {},
   "outputs": [
    {
     "name": "stdout",
     "output_type": "stream",
     "text": [
      "1/1 [==============================] - 0s 443ms/step\n",
      "1/1 [==============================] - 0s 147ms/step\n",
      "1/1 [==============================] - 0s 31ms/step\n",
      "1/1 [==============================] - 0s 73ms/step\n"
     ]
    }
   ],
   "source": [
    "import tkinter as tk\n",
    "from tkinter import messagebox\n",
    "from tkinter import filedialog\n",
    "from PIL import Image, ImageTk\n",
    "import cv2\n",
    "import numpy as np\n",
    "from keras.models import load_model\n",
    "\n",
    "# load the trained model\n",
    "model = load_model('kidney_disease.h5')\n",
    "\n",
    "# define labels\n",
    "labels = ['cyst', 'normal', 'stone', 'tumor']\n",
    "\n",
    "# function to load image and predict\n",
    "def load_image():\n",
    "    file_path = tk.filedialog.askopenfilename()\n",
    "    try:\n",
    "        image = cv2.imread(file_path, cv2.IMREAD_GRAYSCALE)\n",
    "        image = cv2.resize(image, (200, 200))\n",
    "        image = image.reshape((1, 200, 200, 1))\n",
    "        prediction = model.predict(image)[0]\n",
    "        pred_label = labels[np.argmax(prediction)]\n",
    "        \n",
    "        # show image and prediction\n",
    "        img = Image.open(file_path)\n",
    "        img = img.resize((200, 200))\n",
    "        img = ImageTk.PhotoImage(img)\n",
    "        lbl_image.configure(image=img)\n",
    "        lbl_image.image = img\n",
    "        lbl_pred.configure(text=f\"Prediction: {pred_label}\")\n",
    "    except:\n",
    "        messagebox.showerror('Error', 'Error loading image.')\n",
    "\n",
    "# create GUI\n",
    "root = tk.Tk()\n",
    "root.title('Kidney Disease Detection')\n",
    "root.geometry('400x500')\n",
    "root.resizable(False, False)\n",
    "\n",
    "# load image button\n",
    "btn_load = tk.Button(root, text='Load Image', command=load_image,padx=10, pady=5)\n",
    "btn_load.pack(pady=10)\n",
    "\n",
    "# image label\n",
    "lbl_image = tk.Label(root)\n",
    "lbl_image.pack(pady=10)\n",
    "\n",
    "# prediction label\n",
    "lbl_pred = tk.Label(root, font=('Arial', 20))\n",
    "lbl_pred.pack()\n",
    "\n",
    "root.mainloop()"
   ]
  },
  {
   "cell_type": "code",
   "execution_count": null,
   "id": "a0b29130",
   "metadata": {},
   "outputs": [],
   "source": []
  },
  {
   "cell_type": "code",
   "execution_count": null,
   "id": "53736f7e",
   "metadata": {},
   "outputs": [],
   "source": []
  }
 ],
 "metadata": {
  "kernelspec": {
   "display_name": "Python 3 (ipykernel)",
   "language": "python",
   "name": "python3"
  },
  "language_info": {
   "codemirror_mode": {
    "name": "ipython",
    "version": 3
   },
   "file_extension": ".py",
   "mimetype": "text/x-python",
   "name": "python",
   "nbconvert_exporter": "python",
   "pygments_lexer": "ipython3",
   "version": "3.9.13"
  }
 },
 "nbformat": 4,
 "nbformat_minor": 5
}
